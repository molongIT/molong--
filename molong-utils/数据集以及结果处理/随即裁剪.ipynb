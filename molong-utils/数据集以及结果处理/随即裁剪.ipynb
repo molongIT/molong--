{
 "cells": [
  {
   "cell_type": "code",
   "execution_count": 18,
   "metadata": {},
   "outputs": [
    {
     "name": "stdout",
     "output_type": "stream",
     "text": [
      "2048\n",
      "2048\n"
     ]
    },
    {
     "ename": "ValueError",
     "evalue": "object too deep for desired array",
     "output_type": "error",
     "traceback": [
      "\u001b[0;31m---------------------------------------------------------------------------\u001b[0m",
      "\u001b[0;31mValueError\u001b[0m                                Traceback (most recent call last)",
      "Cell \u001b[0;32mIn[18], line 26\u001b[0m\n\u001b[1;32m     20\u001b[0m image \u001b[38;5;241m=\u001b[39m image[\n\u001b[1;32m     21\u001b[0m     center_y : shape \u001b[38;5;241m+\u001b[39m center_y, center_x : shape \u001b[38;5;241m+\u001b[39m center_x\n\u001b[1;32m     22\u001b[0m ]\n\u001b[1;32m     24\u001b[0m \u001b[38;5;66;03m# plt.imshow(image,cmap='gray')\u001b[39;00m\n\u001b[0;32m---> 26\u001b[0m \u001b[38;5;28mprint\u001b[39m(\u001b[43mnp\u001b[49m\u001b[38;5;241;43m.\u001b[39;49m\u001b[43mbincount\u001b[49m\u001b[43m(\u001b[49m\u001b[43mimage\u001b[49m\u001b[43m)\u001b[49m)\n",
      "File \u001b[0;32m<__array_function__ internals>:200\u001b[0m, in \u001b[0;36mbincount\u001b[0;34m(*args, **kwargs)\u001b[0m\n",
      "\u001b[0;31mValueError\u001b[0m: object too deep for desired array"
     ]
    }
   ],
   "source": [
    "import numpy as np\n",
    "import cv2\n",
    "import SimpleITK as sitk\n",
    "import matplotlib.pyplot as plt\n",
    "\n",
    "\n",
    "img_sitk = sitk.ReadImage('/home/pxl/myProject/血管分割/FIVE的分割GT.nii.gz')\n",
    "image = sitk.GetArrayFromImage(img_sitk)\n",
    "\n",
    "shape = 1000\n",
    "y, x = image.shape\n",
    "print(y)\n",
    "print(x)\n",
    "\n",
    "\n",
    "# 随机裁剪, (center_y, center_x) refers the left-up coordinate of the Random_Crop_Block\n",
    "center_y = np.random.randint(0, y - shape, 1, dtype=np.int16)[0]\n",
    "center_x = np.random.randint(0, x - shape + 1, 1, dtype=np.int16)[0]\n",
    "# 裁剪图像\n",
    "image = image[\n",
    "    center_y : shape + center_y, center_x : shape + center_x\n",
    "]\n",
    "\n",
    "# plt.imshow(image,cmap='gray')\n",
    "\n",
    "print(np.bincount(image))"
   ]
  },
  {
   "cell_type": "code",
   "execution_count": 4,
   "metadata": {},
   "outputs": [
    {
     "ename": "ValueError",
     "evalue": "could not broadcast input array from shape (3,3) into shape (2,2)",
     "output_type": "error",
     "traceback": [
      "\u001b[0;31m---------------------------------------------------------------------------\u001b[0m",
      "\u001b[0;31mValueError\u001b[0m                                Traceback (most recent call last)",
      "Cell \u001b[0;32mIn[4], line 27\u001b[0m\n\u001b[1;32m     23\u001b[0m     \u001b[38;5;28mprint\u001b[39m(reshaped_image)\n\u001b[1;32m     26\u001b[0m \u001b[38;5;66;03m# 运行测试函数\u001b[39;00m\n\u001b[0;32m---> 27\u001b[0m \u001b[43mtest_reshape_img\u001b[49m\u001b[43m(\u001b[49m\u001b[43m)\u001b[49m\n",
      "Cell \u001b[0;32mIn[4], line 17\u001b[0m, in \u001b[0;36mtest_reshape_img\u001b[0;34m()\u001b[0m\n\u001b[1;32m     14\u001b[0m new_height, new_width \u001b[38;5;241m=\u001b[39m \u001b[38;5;241m2\u001b[39m, \u001b[38;5;241m2\u001b[39m\n\u001b[1;32m     16\u001b[0m \u001b[38;5;66;03m# 调用 reshape_img 函数\u001b[39;00m\n\u001b[0;32m---> 17\u001b[0m reshaped_image \u001b[38;5;241m=\u001b[39m \u001b[43mreshape_img\u001b[49m\u001b[43m(\u001b[49m\u001b[43mimage\u001b[49m\u001b[43m,\u001b[49m\u001b[43m \u001b[49m\u001b[43mnew_height\u001b[49m\u001b[43m,\u001b[49m\u001b[43m \u001b[49m\u001b[43mnew_width\u001b[49m\u001b[43m)\u001b[49m\n\u001b[1;32m     19\u001b[0m \u001b[38;5;66;03m# 打印原始图像和调整大小后的图像\u001b[39;00m\n\u001b[1;32m     20\u001b[0m \u001b[38;5;28mprint\u001b[39m(\u001b[38;5;124m\"\u001b[39m\u001b[38;5;124mOriginal Image:\u001b[39m\u001b[38;5;124m\"\u001b[39m)\n",
      "Cell \u001b[0;32mIn[4], line 4\u001b[0m, in \u001b[0;36mreshape_img\u001b[0;34m(image, y, x)\u001b[0m\n\u001b[1;32m      2\u001b[0m \u001b[38;5;28;01mdef\u001b[39;00m \u001b[38;5;21mreshape_img\u001b[39m(image, y, x):\n\u001b[1;32m      3\u001b[0m     out \u001b[38;5;241m=\u001b[39m np\u001b[38;5;241m.\u001b[39mzeros([y, x], dtype\u001b[38;5;241m=\u001b[39mnp\u001b[38;5;241m.\u001b[39mfloat32)\n\u001b[0;32m----> 4\u001b[0m     out[\u001b[38;5;241m0\u001b[39m:image\u001b[38;5;241m.\u001b[39mshape[\u001b[38;5;241m0\u001b[39m], \u001b[38;5;241m0\u001b[39m:image\u001b[38;5;241m.\u001b[39mshape[\u001b[38;5;241m1\u001b[39m]] \u001b[38;5;241m=\u001b[39m image[\u001b[38;5;241m0\u001b[39m:image\u001b[38;5;241m.\u001b[39mshape[\u001b[38;5;241m0\u001b[39m],\n\u001b[1;32m      5\u001b[0m                                                     \u001b[38;5;241m0\u001b[39m:image\u001b[38;5;241m.\u001b[39mshape[\u001b[38;5;241m1\u001b[39m]]\n\u001b[1;32m      6\u001b[0m     \u001b[38;5;28;01mreturn\u001b[39;00m out\n",
      "\u001b[0;31mValueError\u001b[0m: could not broadcast input array from shape (3,3) into shape (2,2)"
     ]
    }
   ],
   "source": [
    "import numpy as np\n",
    "def reshape_img(image, y, x):\n",
    "    out = np.zeros([y, x], dtype=np.float32)\n",
    "    out[0:image.shape[0], 0:image.shape[1]] = image[0:image.shape[0],\n",
    "                                                    0:image.shape[1]]\n",
    "    return out\n",
    "def test_reshape_img():\n",
    "    # 创建一个示例图像 (3x3)\n",
    "    image = np.array([[1, 2, 3],\n",
    "                      [4, 5, 6],\n",
    "                      [7, 8, 9]], dtype=np.float32)\n",
    "\n",
    "    # 定义目标大小\n",
    "    new_height, new_width = 2, 2\n",
    "\n",
    "    # 调用 reshape_img 函数\n",
    "    reshaped_image = reshape_img(image, new_height, new_width)\n",
    "\n",
    "    # 打印原始图像和调整大小后的图像\n",
    "    print(\"Original Image:\")\n",
    "    print(image)\n",
    "    print(\"\\nReshaped Image:\")\n",
    "    print(reshaped_image)\n",
    "\n",
    "\n",
    "# 运行测试函数\n",
    "test_reshape_img()"
   ]
  }
 ],
 "metadata": {
  "kernelspec": {
   "display_name": "tissue",
   "language": "python",
   "name": "python3"
  },
  "language_info": {
   "codemirror_mode": {
    "name": "ipython",
    "version": 3
   },
   "file_extension": ".py",
   "mimetype": "text/x-python",
   "name": "python",
   "nbconvert_exporter": "python",
   "pygments_lexer": "ipython3",
   "version": "3.8.19"
  }
 },
 "nbformat": 4,
 "nbformat_minor": 2
}
