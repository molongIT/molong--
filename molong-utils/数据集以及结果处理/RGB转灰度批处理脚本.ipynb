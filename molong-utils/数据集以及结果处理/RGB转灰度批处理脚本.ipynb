{
 "cells": [
  {
   "cell_type": "code",
   "execution_count": 1,
   "metadata": {},
   "outputs": [
    {
     "name": "stdout",
     "output_type": "stream",
     "text": [
      "/home/pxl/myProject/血管分割/1/随意的组织.nii.gz\n",
      "Saved as NIfTI: /home/pxl/myProject/血管分割/1/随意的组织.nii.gz\n",
      "/home/pxl/myProject/血管分割/1/糟糕的预测图.nii.gz\n",
      "Saved as NIfTI: /home/pxl/myProject/血管分割/1/糟糕的预测图.nii.gz\n",
      "/home/pxl/myProject/血管分割/1/FIVE的分割GT.nii.gz\n",
      "Saved as NIfTI: /home/pxl/myProject/血管分割/1/FIVE的分割GT.nii.gz\n",
      "/home/pxl/myProject/血管分割/1/FIVE原始彩色图像.nii.gz\n",
      "Saved as NIfTI: /home/pxl/myProject/血管分割/1/FIVE原始彩色图像.nii.gz\n"
     ]
    }
   ],
   "source": [
    "import os\n",
    "import cv2\n",
    "import SimpleITK as sitk\n",
    "\n",
    "def convert_images_to_grayscale(directory):\n",
    "    \"\"\"将指定文件夹下的所有RGB图像转换为灰度图像并覆盖原文件\"\"\"\n",
    "    for root, dirs, files in os.walk(directory):\n",
    "        for file in files:\n",
    "            if file.endswith(('.png', '.jpg', '.jpeg', '.bmp', '.tiff')):\n",
    "                file_path = os.path.join(root, file)\n",
    "                \n",
    "                # 读取彩色图像\n",
    "                img = cv2.imread(file_path, cv2.IMREAD_GRAYSCALE)\n",
    "                  \n",
    "                gray_img = sitk.GetImageFromArray(img)\n",
    "                nii_file_path = os.path.splitext(file_path)[0] + '.nii.gz'\n",
    "                print(nii_file_path)\n",
    "                sitk.WriteImage(gray_img, nii_file_path)\n",
    "                    \n",
    "                print(f\"Saved as NIfTI: {nii_file_path}\")\n",
    "                # 删除原始图像文件\n",
    "                os.remove(file_path)\n",
    "\n",
    "# 指定需要遍历的目录\n",
    "directory = '/home/pxl/myProject/血管分割/1'\n",
    "# 调用函数进行转换\n",
    "convert_images_to_grayscale(directory)"
   ]
  },
  {
   "cell_type": "code",
   "execution_count": 14,
   "metadata": {},
   "outputs": [],
   "source": [
    "import os\n",
    "import cv2\n",
    "import SimpleITK as sitk\n",
    "import numpy as np\n",
    "\n",
    "def convert_nii_to_rgb(directory):\n",
    "    \"\"\"将指定文件夹下的所有.nii.gz文件转换为RGB图像并保存为.png格式，然后删除原始的.nii.gz文件\"\"\"\n",
    "    for root, dirs, files in os.walk(directory):\n",
    "        for file in files:\n",
    "            if file.lower().endswith('.nii.gz'):\n",
    "                file_path = os.path.join(root, file)\n",
    "                \n",
    "                # 读取NIfTI图像\n",
    "                img_sitk = sitk.ReadImage(file_path)\n",
    "                img_array = sitk.GetArrayFromImage(img_sitk)\n",
    "                print(img_array.shape)\n",
    "                # 检查图像是否是灰度图像\n",
    "                gray_img = cv2.cvtColor(img_array, cv2.COLOR_BGR2GRAY) \n",
    "                               \n",
    "                # 构建PNG文件路径\n",
    "                png_file_path = os.path.splitext(file_path)[0] + '.png'\n",
    "                \n",
    "                # 保存图像为PNG格式\n",
    "                cv2.imwrite(png_file_path, gray_img)\n",
    "                print(f\"Converted and saved as PNG: {png_file_path}\")\n",
    "                \n",
    "                # 删除原始NIfTI文件\n",
    "                os.remove(file_path)\n",
    "                print(f\"Deleted original NIfTI file: {file_path}\")\n",
    "\n",
    "# 指定需要遍历的目录\n",
    "directory = '/home/pxl/myProject/血管分割/RawData/FIVES-dataset-50/Data/DRIVE/Image_Te'\n",
    "\n",
    "# 调用函数进行转换并删除原始文件\n",
    "convert_nii_to_rgb(directory)"
   ]
  },
  {
   "cell_type": "code",
   "execution_count": null,
   "metadata": {},
   "outputs": [],
   "source": []
  }
 ],
 "metadata": {
  "kernelspec": {
   "display_name": "tissue",
   "language": "python",
   "name": "python3"
  },
  "language_info": {
   "codemirror_mode": {
    "name": "ipython",
    "version": 3
   },
   "file_extension": ".py",
   "mimetype": "text/x-python",
   "name": "python",
   "nbconvert_exporter": "python",
   "pygments_lexer": "ipython3",
   "version": "3.8.19"
  }
 },
 "nbformat": 4,
 "nbformat_minor": 2
}
