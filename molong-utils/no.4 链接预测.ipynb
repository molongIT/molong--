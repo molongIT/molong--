{
 "cells": [
  {
   "cell_type": "code",
   "execution_count": 1,
   "metadata": {},
   "outputs": [
    {
     "ename": "AttributeError",
     "evalue": "'builtin_function_or_method' object has no attribute 'default'",
     "output_type": "error",
     "traceback": [
      "\u001b[0;31m---------------------------------------------------------------------------\u001b[0m",
      "\u001b[0;31mAttributeError\u001b[0m                            Traceback (most recent call last)",
      "Cell \u001b[0;32mIn[1], line 4\u001b[0m\n\u001b[1;32m      2\u001b[0m \u001b[38;5;28;01mimport\u001b[39;00m \u001b[38;5;21;01mtorch\u001b[39;00m\u001b[38;5;21;01m.\u001b[39;00m\u001b[38;5;21;01mnn\u001b[39;00m \u001b[38;5;28;01mas\u001b[39;00m \u001b[38;5;21;01mnn\u001b[39;00m\n\u001b[1;32m      3\u001b[0m \u001b[38;5;28;01mimport\u001b[39;00m \u001b[38;5;21;01mtorch\u001b[39;00m\u001b[38;5;21;01m.\u001b[39;00m\u001b[38;5;21;01mnn\u001b[39;00m\u001b[38;5;21;01m.\u001b[39;00m\u001b[38;5;21;01mfunctional\u001b[39;00m \u001b[38;5;28;01mas\u001b[39;00m \u001b[38;5;21;01mF\u001b[39;00m\n\u001b[0;32m----> 4\u001b[0m \u001b[38;5;28;01mfrom\u001b[39;00m \u001b[38;5;21;01mtorch_geometric\u001b[39;00m\u001b[38;5;21;01m.\u001b[39;00m\u001b[38;5;21;01mnn\u001b[39;00m \u001b[38;5;28;01mimport\u001b[39;00m GCNConv\n\u001b[1;32m      5\u001b[0m \u001b[38;5;28;01mfrom\u001b[39;00m \u001b[38;5;21;01mtorch_geometric\u001b[39;00m\u001b[38;5;21;01m.\u001b[39;00m\u001b[38;5;21;01mdata\u001b[39;00m \u001b[38;5;28;01mimport\u001b[39;00m Data\n\u001b[1;32m      7\u001b[0m \u001b[38;5;28;01mclass\u001b[39;00m \u001b[38;5;21;01mGCNLinkPredictor\u001b[39;00m(nn\u001b[38;5;241m.\u001b[39mModule):\n",
      "File \u001b[0;32m~/miniconda3/envs/tissue/lib/python3.8/site-packages/torch_geometric/__init__.py:8\u001b[0m\n\u001b[1;32m      6\u001b[0m \u001b[38;5;28;01mfrom\u001b[39;00m \u001b[38;5;21;01m.\u001b[39;00m\u001b[38;5;21;01m_compile\u001b[39;00m \u001b[38;5;28;01mimport\u001b[39;00m \u001b[38;5;28mcompile\u001b[39m, is_compiling\n\u001b[1;32m      7\u001b[0m \u001b[38;5;28;01mfrom\u001b[39;00m \u001b[38;5;21;01m.\u001b[39;00m\u001b[38;5;21;01m_onnx\u001b[39;00m \u001b[38;5;28;01mimport\u001b[39;00m is_in_onnx_export\n\u001b[0;32m----> 8\u001b[0m \u001b[38;5;28;01mfrom\u001b[39;00m \u001b[38;5;21;01m.\u001b[39;00m\u001b[38;5;21;01mindex\u001b[39;00m \u001b[38;5;28;01mimport\u001b[39;00m Index\n\u001b[1;32m      9\u001b[0m \u001b[38;5;28;01mfrom\u001b[39;00m \u001b[38;5;21;01m.\u001b[39;00m\u001b[38;5;21;01medge_index\u001b[39;00m \u001b[38;5;28;01mimport\u001b[39;00m EdgeIndex\n\u001b[1;32m     10\u001b[0m \u001b[38;5;28;01mfrom\u001b[39;00m \u001b[38;5;21;01m.\u001b[39;00m\u001b[38;5;21;01mseed\u001b[39;00m \u001b[38;5;28;01mimport\u001b[39;00m seed_everything\n",
      "File \u001b[0;32m~/miniconda3/envs/tissue/lib/python3.8/site-packages/torch_geometric/index.py:461\u001b[0m\n\u001b[1;32m    456\u001b[0m         out\u001b[38;5;241m.\u001b[39m_indptr \u001b[38;5;241m=\u001b[39m fn(tensor\u001b[38;5;241m.\u001b[39m_indptr, \u001b[38;5;241m*\u001b[39margs, \u001b[38;5;241m*\u001b[39m\u001b[38;5;241m*\u001b[39mkwargs)\n\u001b[1;32m    458\u001b[0m     \u001b[38;5;28;01mreturn\u001b[39;00m out\n\u001b[0;32m--> 461\u001b[0m \u001b[38;5;129m@implements\u001b[39m(\u001b[43maten\u001b[49m\u001b[38;5;241;43m.\u001b[39;49m\u001b[43mclone\u001b[49m\u001b[38;5;241;43m.\u001b[39;49m\u001b[43mdefault\u001b[49m)\n\u001b[1;32m    462\u001b[0m \u001b[38;5;28;01mdef\u001b[39;00m \u001b[38;5;21m_clone\u001b[39m(\n\u001b[1;32m    463\u001b[0m     tensor: Index,\n\u001b[1;32m    464\u001b[0m     \u001b[38;5;241m*\u001b[39m,\n\u001b[1;32m    465\u001b[0m     memory_format: torch\u001b[38;5;241m.\u001b[39mmemory_format \u001b[38;5;241m=\u001b[39m torch\u001b[38;5;241m.\u001b[39mpreserve_format,\n\u001b[1;32m    466\u001b[0m ) \u001b[38;5;241m-\u001b[39m\u001b[38;5;241m>\u001b[39m Index:\n\u001b[1;32m    467\u001b[0m     out \u001b[38;5;241m=\u001b[39m apply_(tensor, aten\u001b[38;5;241m.\u001b[39mclone\u001b[38;5;241m.\u001b[39mdefault, memory_format\u001b[38;5;241m=\u001b[39mmemory_format)\n\u001b[1;32m    468\u001b[0m     \u001b[38;5;28;01massert\u001b[39;00m \u001b[38;5;28misinstance\u001b[39m(out, Index)\n",
      "\u001b[0;31mAttributeError\u001b[0m: 'builtin_function_or_method' object has no attribute 'default'"
     ]
    }
   ],
   "source": [
    "import torch\n",
    "import torch.nn as nn\n",
    "import torch.nn.functional as F\n",
    "from torch_geometric.nn import GCNConv\n",
    "from torch_geometric.data import Data\n",
    "\n",
    "class GCNLinkPredictor(nn.Module):\n",
    "    def __init__(self, in_channels, hidden_channels, num_layers):\n",
    "        super(GCNLinkPredictor, self).__init__()\n",
    "        self.convs = nn.ModuleList()\n",
    "        \n",
    "        # 输入层\n",
    "        self.convs.append(GCNConv(in_channels, hidden_channels))\n",
    "        # 隐藏层\n",
    "        for _ in range(num_layers - 2):\n",
    "            self.convs.append(GCNConv(hidden_channels, hidden_channels))\n",
    "        # 输出层\n",
    "        self.convs.append(GCNConv(hidden_channels, hidden_channels))\n",
    "        \n",
    "    def forward(self, x, edge_index):\n",
    "        # 通过多层GCN来提取节点嵌入\n",
    "        for conv in self.convs[:-1]:\n",
    "            x = F.relu(conv(x, edge_index))\n",
    "        # 最后一层不使用激活函数\n",
    "        x = self.convs[-1](x, edge_index)\n",
    "        return x\n",
    "\n",
    "class LinkPredictionModel(nn.Module):\n",
    "    def __init__(self, in_channels, hidden_channels, num_layers):\n",
    "        super(LinkPredictionModel, self).__init__()\n",
    "        self.gcn = GCNLinkPredictor(in_channels, hidden_channels, num_layers)\n",
    "        \n",
    "    def forward(self, x, edge_index, node_pairs):\n",
    "        # 获取节点嵌入\n",
    "        embeddings = self.gcn(x, edge_index)\n",
    "        \n",
    "        # 计算每对节点之间的相似度（点积）\n",
    "        node_i = embeddings[node_pairs[:, 0]]\n",
    "        node_j = embeddings[node_pairs[:, 1]]\n",
    "        dot_product = (node_i * node_j).sum(dim=-1)\n",
    "        \n",
    "        # 应用 Sigmoid 函数来计算连接概率\n",
    "        link_prob = torch.sigmoid(dot_product)\n",
    "        return link_prob\n",
    "\n",
    "# 创建数据示例\n",
    "# 假设我们有一个5节点的图，输入特征为3维\n",
    "x = torch.randn((5, 3))  # 5个节点，每个节点3个特征\n",
    "edge_index = torch.tensor([[0, 1, 2, 3, 4, 0], [1, 2, 3, 4, 0, 2]], dtype=torch.long)  # 边列表\n",
    "node_pairs = torch.tensor([[0, 1], [2, 3], [0, 4]], dtype=torch.long)  # 需要预测的节点对\n",
    "\n",
    "# 模型参数\n",
    "in_channels = 3\n",
    "hidden_channels = 16\n",
    "num_layers = 3\n",
    "\n",
    "# 初始化并测试模型\n",
    "model = LinkPredictionModel(in_channels, hidden_channels, num_layers)\n",
    "output = model(x, edge_index, node_pairs)\n",
    "\n",
    "print(\"Link Probabilities:\", output)"
   ]
  }
 ],
 "metadata": {
  "kernelspec": {
   "display_name": "tissue",
   "language": "python",
   "name": "python3"
  },
  "language_info": {
   "codemirror_mode": {
    "name": "ipython",
    "version": 3
   },
   "file_extension": ".py",
   "mimetype": "text/x-python",
   "name": "python",
   "nbconvert_exporter": "python",
   "pygments_lexer": "ipython3",
   "version": "3.8.19"
  }
 },
 "nbformat": 4,
 "nbformat_minor": 2
}
