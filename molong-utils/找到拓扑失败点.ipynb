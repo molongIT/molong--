{
 "cells": [
  {
   "cell_type": "code",
   "execution_count": 13,
   "metadata": {},
   "outputs": [
    {
     "name": "stdout",
     "output_type": "stream",
     "text": [
      "Number of connected components: 4\n",
      "Number of connected components: 218\n",
      "Number of connected components: 39933\n",
      "[[0 0 0 ... 0 0 0]\n",
      " [0 0 0 ... 0 0 0]\n",
      " [0 0 0 ... 0 0 0]\n",
      " ...\n",
      " [0 0 0 ... 0 0 0]\n",
      " [0 0 0 ... 0 0 0]\n",
      " [0 0 0 ... 0 0 0]]\n"
     ]
    }
   ],
   "source": [
    "import numpy as np\n",
    "import cc3d\n",
    "import numpy as np\n",
    "from PIL import Image\n",
    "\n",
    "src = '/home/pxl/myProject/血管分割/molong-resource/true_3044_e03e0573e1ea98fe3f48.png' # 480*480\n",
    "src2 = '/home/pxl/myProject/血管分割/molong-resource/pred_3044_a1c1b64aade9f79e5c60.png'\n",
    "src3 = '/home/pxl/myProject/血管分割/molong-resource/true.jpg'\n",
    "\n",
    "def twod(src):\n",
    "  img = Image.open(src)\n",
    "  return np.array(img)[:,:,0]\n",
    "\n",
    "# 假设你有一个二值图像\n",
    "image = twod(src)\n",
    "image2 = twod(src2)\n",
    "image3 = twod(src3)\n",
    "\n",
    "# 进行连通分量分析\n",
    "# labels_out 是一个与输入图像相同维度的数组，每个连 通分量都会被赋予一个唯一的标签（整数值），代表它所属的连通分量。\n",
    "# numcomp 是连通分量的总数，表示在图像中找到的连通分量的数量。\n",
    "\n",
    "labels_out, numcomp = cc3d.connected_components(image, connectivity=8, return_N=True) # 26-connected\n",
    "labels_out2, numcomp2 = cc3d.connected_components(image2, connectivity=8, return_N=True) # 26-connected\n",
    "labels_out3, numcomp3 = cc3d.connected_components(image3, connectivity=8, return_N=True) # 26-connected\n",
    "\n",
    "print(f\"Number of connected components: {numcomp}\")\n",
    "print(f\"Number of connected components: {numcomp2}\")\n",
    "print(f\"Number of connected components: {numcomp3}\")\n",
    "\n",
    "\n",
    "print(labels_out)\n",
    "np.savetxt('/home/pxl/myProject/血管分割/molong-resource/血管image.txt', labels_out, fmt='%d')\n",
    "\n",
    "\n",
    "def calculate_critical_(labels_out, numcomp):\n",
    "    # 计算每个连通分量的面积（或体积)\n",
    "    unique_labels, counts = np.unique(labels_out, return_counts=True)\n",
    "\n",
    "    # 定义一个阈值，小于该阈值的分量被视为潜在的拓扑失败点=\n",
    "    threshold = 10  # 根据你的图像情况调整这个值\n",
    "    potential_failure_points = unique_labels[counts < threshold]\n",
    "\n",
    "    # 标记潜在的拓扑失败点\n",
    "    failure_map = np.isin(labels_out, potential_failure_points)\n",
    "\n",
    "    print(f\"Potential topology failure points: {len(potential_failure_points)}\")\n",
    "\n",
    "    # 可视化或进一步处理 failure_map，例如高亮显示或统计失败点的分布\n",
    "\n",
    "    # 扩展failure_map中为True的点周围的区域\n",
    "    for i in range(failure_map.shape[0]):\n",
    "        for j in range(failure_map.shape[1]):\n",
    "            if failure_map[i][j]:\n",
    "                for k in range(max(i-5, 0), min(i+6, failure_map.shape[0])):\n",
    "                    for l in range(max(j-5, 0), min(j+6, failure_map.shape[1])):\n",
    "                        failure_map[k][l] = True\n",
    "\n",
    "    # 统计failure_map中为True的点的数量\n",
    "\n"
   ]
  },
  {
   "cell_type": "code",
   "execution_count": null,
   "metadata": {},
   "outputs": [],
   "source": []
  }
 ],
 "metadata": {
  "kernelspec": {
   "display_name": "tissue",
   "language": "python",
   "name": "python3"
  },
  "language_info": {
   "codemirror_mode": {
    "name": "ipython",
    "version": 3
   },
   "file_extension": ".py",
   "mimetype": "text/x-python",
   "name": "python",
   "nbconvert_exporter": "python",
   "pygments_lexer": "ipython3",
   "version": "3.8.19"
  }
 },
 "nbformat": 4,
 "nbformat_minor": 2
}
