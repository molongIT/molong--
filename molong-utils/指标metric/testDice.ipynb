{
 "cells": [
  {
   "cell_type": "code",
   "execution_count": 3,
   "metadata": {},
   "outputs": [],
   "source": [
    "import numpy as np\n",
    "import SimpleITK as sitk\n",
    "from os.path import join\n",
    "\n",
    "def testDice(label_path, pred_path):\n",
    "\n",
    "    predict = sitk.ReadImage(pred_path)\n",
    "    predict = sitk.GetArrayFromImage(predict)\n",
    "    predict = predict.astype(np.float32)\n",
    "    predict = np.where(predict > 0.5, 1, 0) \n",
    "    groundtruth = sitk.ReadImage(label_path)\n",
    "    groundtruth = sitk.GetArrayFromImage(groundtruth)\n",
    "    groundtruth = groundtruth.astype(np.float32)\n",
    "    groundtruth = groundtruth / (np.max(groundtruth))   \n",
    "    tmp = predict + groundtruth\n",
    "    a = np.sum(np.where(tmp == 2, 1, 0))\n",
    "    b = np.sum(predict)\n",
    "    c = np.sum(groundtruth)\n",
    "    \n",
    "    dice = (2 * a) / (b + c)\n",
    "    return dice\n",
    "\n"
   ]
  },
  {
   "cell_type": "code",
   "execution_count": 8,
   "metadata": {},
   "outputs": [
    {
     "name": "stdout",
     "output_type": "stream",
     "text": [
      "0.8271700601764076\n"
     ]
    }
   ],
   "source": [
    "pred_image_dir = '/home/pxl/myProject/血管分割/DSCNet/DSCNet_2D_opensource/Results/DRIVE/DSCNet/01.nii.gz'\n",
    "label_image_dir = '/home/pxl/myProject/血管分割/DSCNet/DSCNet_2D_opensource/Data/DRIVE/Label_Te/01.nii.gz'\n",
    "\n",
    "print(Dice(label_image_dir,pred_image_dir))"
   ]
  }
 ],
 "metadata": {
  "kernelspec": {
   "display_name": "tissue",
   "language": "python",
   "name": "python3"
  },
  "language_info": {
   "codemirror_mode": {
    "name": "ipython",
    "version": 3
   },
   "file_extension": ".py",
   "mimetype": "text/x-python",
   "name": "python",
   "nbconvert_exporter": "python",
   "pygments_lexer": "ipython3",
   "version": "3.8.-1"
  }
 },
 "nbformat": 4,
 "nbformat_minor": 2
}
