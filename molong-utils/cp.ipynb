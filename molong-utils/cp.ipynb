{
 "cells": [
  {
   "cell_type": "code",
   "execution_count": 19,
   "metadata": {},
   "outputs": [
    {
     "name": "stdout",
     "output_type": "stream",
     "text": [
      "Pixel (50, 50) - Probability: 0.5561342230306965, Confidence Interval: [0.7319666316641134, 0.7655840514683749]\n",
      "Pixel (2, 51) - Probability: 0.013934351748235763, Confidence Interval: [0.1897667603816527, 0.22338418018591422]\n"
     ]
    }
   ],
   "source": [
    "import numpy as np\n",
    "\n",
    "def compute_confidence_intervals(prob_map, calibration_errors, confidence=0.95):\n",
    "    \"\"\"\n",
    "    根据校准误差分布计算每个像素的置信区间。\n",
    "    prob_map: 预测的概率图\n",
    "    calibration_errors: 校准集中的误差分布，用于估计置信区间\n",
    "    confidence: 置信度阈值\n",
    "    \"\"\"\n",
    "    lower_bound = []\n",
    "    upper_bound = []\n",
    "    \n",
    "    # 根据校准误差为每个像素计算置信区间\n",
    "    for prob in prob_map.flatten():\n",
    "        # 通过校准误差估计区间 (假设 calibration_errors 是预先计算的)\n",
    "        error_bounds = np.percentile(calibration_errors, [(1 - confidence) / 2 * 100, (1 + confidence) / 2 * 100])\n",
    "        lower_bound.append(prob - error_bounds[0])\n",
    "        upper_bound.append(prob + error_bounds[1])\n",
    "    \n",
    "    return np.array(lower_bound).reshape(prob_map.shape), np.array(upper_bound).reshape(prob_map.shape)\n",
    "\n",
    "# 示例预测概率图 (例如 0-1 的概率)\n",
    "prob_map = np.random.rand(100, 100)\n",
    "\n",
    "# 示例校准误差分布\n",
    "calibration_errors = np.random.normal(0, 0.1, size=1000)  # 假设校准误差符合正态分布\n",
    "\n",
    "# 计算 95% 的置信区间\n",
    "lower_bound, upper_bound = compute_confidence_intervals(prob_map, calibration_errors, confidence=0.95)\n",
    "\n",
    "# 查看某个像素的置信区间\n",
    "pixel_idx = (50, 50)\n",
    "print(f\"Pixel {pixel_idx} - Probability: {prob_map[pixel_idx]}, Confidence Interval: [{lower_bound[pixel_idx]}, {upper_bound[pixel_idx]}]\")\n",
    "# 查看某个像素的置信区间\n",
    "pixel_idx = (2, 51)\n",
    "print(f\"Pixel {pixel_idx} - Probability: {prob_map[pixel_idx]}, Confidence Interval: [{lower_bound[pixel_idx]}, {upper_bound[pixel_idx]}]\")"
   ]
  }
 ],
 "metadata": {
  "kernelspec": {
   "display_name": "tissue",
   "language": "python",
   "name": "python3"
  },
  "language_info": {
   "codemirror_mode": {
    "name": "ipython",
    "version": 3
   },
   "file_extension": ".py",
   "mimetype": "text/x-python",
   "name": "python",
   "nbconvert_exporter": "python",
   "pygments_lexer": "ipython3",
   "version": "3.8.19"
  }
 },
 "nbformat": 4,
 "nbformat_minor": 2
}
